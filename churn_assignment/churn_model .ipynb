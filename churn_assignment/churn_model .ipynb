{
 "cells": [
  {
   "cell_type": "markdown",
   "id": "8ab6b4c8",
   "metadata": {},
   "source": [
    "# import laibraries "
   ]
  },
  {
   "cell_type": "code",
   "execution_count": 94,
   "id": "95587354",
   "metadata": {},
   "outputs": [],
   "source": [
    "import numpy as np\n",
    "import pandas as pd \n",
    "import matplotlib.pyplot as plt\n",
    "import seaborn as sns \n",
    "import warnings "
   ]
  },
  {
   "cell_type": "code",
   "execution_count": 95,
   "id": "64cefe0d",
   "metadata": {},
   "outputs": [],
   "source": [
    "from sklearn.preprocessing import StandardScaler\n",
    "from sklearn.preprocessing import LabelEncoder\n",
    "\n",
    "from sklearn.metrics import roc_curve\n",
    "from sklearn.metrics import confusion_matrix,precision_score\n",
    "\n",
    "from sklearn.tree import DecisionTreeClassifier\n",
    "from sklearn.ensemble import RandomForestClassifier\n",
    "from sklearn.svm import SVC\n",
    "from sklearn.ensemble import AdaBoostClassifier\n",
    "from sklearn.ensemble import GradientBoostingClassifier\n",
    "from sklearn.linear_model import LogisticRegression\n",
    "from sklearn.model_selection import train_test_split\n",
    "from sklearn.metrics import f1_score,accuracy_score\n",
    "from xgboost import XGBClassifier\n",
    "from sklearn import preprocessing"
   ]
  },
  {
   "cell_type": "code",
   "execution_count": 96,
   "id": "b2029436",
   "metadata": {},
   "outputs": [],
   "source": [
    "import pandas as pd\n",
    "import numpy as np\n",
    "import matplotlib.pyplot as plt\n",
    "import seaborn as sns\n",
    "import plotly.express as px\n",
    "import  plotly.graph_objects as go\n",
    "from plotly.subplots import make_subplots\n",
    "import warnings\n",
    "warnings.filterwarnings('ignore')"
   ]
  },
  {
   "cell_type": "code",
   "execution_count": 97,
   "id": "834a124e",
   "metadata": {},
   "outputs": [],
   "source": [
    "import pandas as pd\n",
    "import numpy as np\n",
    "import matplotlib.pyplot as plt\n",
    "import seaborn as sns\n",
    "import plotly.express as px\n",
    "import plotly.graph_objects as go\n",
    "from plotly.subplots import make_subplots\n",
    "import warnings\n",
    "warnings.filterwarnings('ignore')\n",
    "import sklearn as sklearn"
   ]
  },
  {
   "cell_type": "code",
   "execution_count": 98,
   "id": "54d3dbc2",
   "metadata": {},
   "outputs": [],
   "source": [
    "from sklearn.preprocessing import StandardScaler\n",
    "from sklearn.preprocessing import LabelEncoder\n",
    "\n",
    "from sklearn import metrics\n",
    "from sklearn.metrics import roc_curve\n",
    "from sklearn.metrics import recall_score, confusion_matrix, precision_score\n",
    "\n",
    "from sklearn.tree import DecisionTreeClassifier\n",
    "from sklearn.ensemble import RandomForestClassifier\n",
    "from sklearn.svm import SVC\n",
    "from sklearn.ensemble import AdaBoostClassifier\n",
    "from sklearn.ensemble import GradientBoostingClassifier\n",
    "from sklearn.linear_model import LogisticRegression\n",
    "from sklearn.model_selection import train_test_split\n",
    "from sklearn.metrics import f1_score, accuracy_score, classification_report\n",
    "from xgboost import XGBClassifier\n",
    "\n"
   ]
  },
  {
   "cell_type": "markdown",
   "id": "8a544b1c",
   "metadata": {},
   "source": [
    "## Import the data "
   ]
  },
  {
   "cell_type": "code",
   "execution_count": 99,
   "id": "ae8e2b07",
   "metadata": {},
   "outputs": [],
   "source": [
    "\n",
    "df = pd.read_excel(r\"C:\\Users\\banke\\Downloads\\customer_churn_large_dataset.xlsx\")\n"
   ]
  },
  {
   "cell_type": "markdown",
   "id": "eb9e1b58",
   "metadata": {},
   "source": [
    "# Data interpretation  "
   ]
  },
  {
   "cell_type": "code",
   "execution_count": 100,
   "id": "cb7634c2",
   "metadata": {},
   "outputs": [
    {
     "data": {
      "text/html": [
       "<div>\n",
       "<style scoped>\n",
       "    .dataframe tbody tr th:only-of-type {\n",
       "        vertical-align: middle;\n",
       "    }\n",
       "\n",
       "    .dataframe tbody tr th {\n",
       "        vertical-align: top;\n",
       "    }\n",
       "\n",
       "    .dataframe thead th {\n",
       "        text-align: right;\n",
       "    }\n",
       "</style>\n",
       "<table border=\"1\" class=\"dataframe\">\n",
       "  <thead>\n",
       "    <tr style=\"text-align: right;\">\n",
       "      <th></th>\n",
       "      <th>CustomerID</th>\n",
       "      <th>Name</th>\n",
       "      <th>Age</th>\n",
       "      <th>Gender</th>\n",
       "      <th>Location</th>\n",
       "      <th>Subscription_Length_Months</th>\n",
       "      <th>Monthly_Bill</th>\n",
       "      <th>Total_Usage_GB</th>\n",
       "      <th>Churn</th>\n",
       "    </tr>\n",
       "  </thead>\n",
       "  <tbody>\n",
       "    <tr>\n",
       "      <th>0</th>\n",
       "      <td>1.0</td>\n",
       "      <td>Customer_1</td>\n",
       "      <td>63.0</td>\n",
       "      <td>Male</td>\n",
       "      <td>Los Angeles</td>\n",
       "      <td>17.0</td>\n",
       "      <td>73.36</td>\n",
       "      <td>236.0</td>\n",
       "      <td>0.0</td>\n",
       "    </tr>\n",
       "    <tr>\n",
       "      <th>1</th>\n",
       "      <td>2.0</td>\n",
       "      <td>Customer_2</td>\n",
       "      <td>62.0</td>\n",
       "      <td>Female</td>\n",
       "      <td>New York</td>\n",
       "      <td>1.0</td>\n",
       "      <td>48.76</td>\n",
       "      <td>172.0</td>\n",
       "      <td>0.0</td>\n",
       "    </tr>\n",
       "    <tr>\n",
       "      <th>2</th>\n",
       "      <td>3.0</td>\n",
       "      <td>Customer_3</td>\n",
       "      <td>24.0</td>\n",
       "      <td>Female</td>\n",
       "      <td>Los Angeles</td>\n",
       "      <td>5.0</td>\n",
       "      <td>85.47</td>\n",
       "      <td>460.0</td>\n",
       "      <td>0.0</td>\n",
       "    </tr>\n",
       "    <tr>\n",
       "      <th>3</th>\n",
       "      <td>4.0</td>\n",
       "      <td>Customer_4</td>\n",
       "      <td>36.0</td>\n",
       "      <td>Female</td>\n",
       "      <td>Miami</td>\n",
       "      <td>3.0</td>\n",
       "      <td>97.94</td>\n",
       "      <td>297.0</td>\n",
       "      <td>1.0</td>\n",
       "    </tr>\n",
       "    <tr>\n",
       "      <th>4</th>\n",
       "      <td>5.0</td>\n",
       "      <td>Customer_5</td>\n",
       "      <td>46.0</td>\n",
       "      <td>Female</td>\n",
       "      <td>Miami</td>\n",
       "      <td>19.0</td>\n",
       "      <td>58.14</td>\n",
       "      <td>266.0</td>\n",
       "      <td>0.0</td>\n",
       "    </tr>\n",
       "  </tbody>\n",
       "</table>\n",
       "</div>"
      ],
      "text/plain": [
       "   CustomerID        Name   Age  Gender     Location  \\\n",
       "0         1.0  Customer_1  63.0    Male  Los Angeles   \n",
       "1         2.0  Customer_2  62.0  Female     New York   \n",
       "2         3.0  Customer_3  24.0  Female  Los Angeles   \n",
       "3         4.0  Customer_4  36.0  Female        Miami   \n",
       "4         5.0  Customer_5  46.0  Female        Miami   \n",
       "\n",
       "   Subscription_Length_Months  Monthly_Bill  Total_Usage_GB  Churn  \n",
       "0                        17.0         73.36           236.0    0.0  \n",
       "1                         1.0         48.76           172.0    0.0  \n",
       "2                         5.0         85.47           460.0    0.0  \n",
       "3                         3.0         97.94           297.0    1.0  \n",
       "4                        19.0         58.14           266.0    0.0  "
      ]
     },
     "execution_count": 100,
     "metadata": {},
     "output_type": "execute_result"
    }
   ],
   "source": [
    "df.head()"
   ]
  },
  {
   "cell_type": "code",
   "execution_count": 101,
   "id": "d11fef5c",
   "metadata": {},
   "outputs": [
    {
     "name": "stdout",
     "output_type": "stream",
     "text": [
      "<class 'pandas.core.frame.DataFrame'>\n",
      "RangeIndex: 100000 entries, 0 to 99999\n",
      "Data columns (total 9 columns):\n",
      " #   Column                      Non-Null Count   Dtype  \n",
      "---  ------                      --------------   -----  \n",
      " 0   CustomerID                  100000 non-null  float64\n",
      " 1   Name                        100000 non-null  object \n",
      " 2   Age                         100000 non-null  float64\n",
      " 3   Gender                      100000 non-null  object \n",
      " 4   Location                    100000 non-null  object \n",
      " 5   Subscription_Length_Months  100000 non-null  float64\n",
      " 6   Monthly_Bill                100000 non-null  float64\n",
      " 7   Total_Usage_GB              100000 non-null  float64\n",
      " 8   Churn                       100000 non-null  float64\n",
      "dtypes: float64(6), object(3)\n",
      "memory usage: 6.9+ MB\n"
     ]
    }
   ],
   "source": [
    "df.info()"
   ]
  },
  {
   "cell_type": "code",
   "execution_count": 102,
   "id": "fb4ba147",
   "metadata": {},
   "outputs": [
    {
     "data": {
      "text/plain": [
       "CustomerID                    0\n",
       "Name                          0\n",
       "Age                           0\n",
       "Gender                        0\n",
       "Location                      0\n",
       "Subscription_Length_Months    0\n",
       "Monthly_Bill                  0\n",
       "Total_Usage_GB                0\n",
       "Churn                         0\n",
       "dtype: int64"
      ]
     },
     "execution_count": 102,
     "metadata": {},
     "output_type": "execute_result"
    }
   ],
   "source": [
    "df.isnull().sum()"
   ]
  },
  {
   "cell_type": "markdown",
   "id": "8cc27073",
   "metadata": {},
   "source": [
    "# Data cleaning "
   ]
  },
  {
   "cell_type": "markdown",
   "id": "74c920f7",
   "metadata": {},
   "source": [
    "Given that the customer ID serves solely as an identification for the customer, it does not impact our churn prediction."
   ]
  },
  {
   "cell_type": "code",
   "execution_count": 103,
   "id": "a2dbd6cf",
   "metadata": {},
   "outputs": [
    {
     "data": {
      "text/html": [
       "<div>\n",
       "<style scoped>\n",
       "    .dataframe tbody tr th:only-of-type {\n",
       "        vertical-align: middle;\n",
       "    }\n",
       "\n",
       "    .dataframe tbody tr th {\n",
       "        vertical-align: top;\n",
       "    }\n",
       "\n",
       "    .dataframe thead th {\n",
       "        text-align: right;\n",
       "    }\n",
       "</style>\n",
       "<table border=\"1\" class=\"dataframe\">\n",
       "  <thead>\n",
       "    <tr style=\"text-align: right;\">\n",
       "      <th></th>\n",
       "      <th>Name</th>\n",
       "      <th>Age</th>\n",
       "      <th>Gender</th>\n",
       "      <th>Location</th>\n",
       "      <th>Subscription_Length_Months</th>\n",
       "      <th>Monthly_Bill</th>\n",
       "      <th>Total_Usage_GB</th>\n",
       "      <th>Churn</th>\n",
       "    </tr>\n",
       "  </thead>\n",
       "  <tbody>\n",
       "    <tr>\n",
       "      <th>0</th>\n",
       "      <td>Customer_1</td>\n",
       "      <td>63.0</td>\n",
       "      <td>Male</td>\n",
       "      <td>Los Angeles</td>\n",
       "      <td>17.0</td>\n",
       "      <td>73.36</td>\n",
       "      <td>236.0</td>\n",
       "      <td>0.0</td>\n",
       "    </tr>\n",
       "    <tr>\n",
       "      <th>1</th>\n",
       "      <td>Customer_2</td>\n",
       "      <td>62.0</td>\n",
       "      <td>Female</td>\n",
       "      <td>New York</td>\n",
       "      <td>1.0</td>\n",
       "      <td>48.76</td>\n",
       "      <td>172.0</td>\n",
       "      <td>0.0</td>\n",
       "    </tr>\n",
       "    <tr>\n",
       "      <th>2</th>\n",
       "      <td>Customer_3</td>\n",
       "      <td>24.0</td>\n",
       "      <td>Female</td>\n",
       "      <td>Los Angeles</td>\n",
       "      <td>5.0</td>\n",
       "      <td>85.47</td>\n",
       "      <td>460.0</td>\n",
       "      <td>0.0</td>\n",
       "    </tr>\n",
       "    <tr>\n",
       "      <th>3</th>\n",
       "      <td>Customer_4</td>\n",
       "      <td>36.0</td>\n",
       "      <td>Female</td>\n",
       "      <td>Miami</td>\n",
       "      <td>3.0</td>\n",
       "      <td>97.94</td>\n",
       "      <td>297.0</td>\n",
       "      <td>1.0</td>\n",
       "    </tr>\n",
       "    <tr>\n",
       "      <th>4</th>\n",
       "      <td>Customer_5</td>\n",
       "      <td>46.0</td>\n",
       "      <td>Female</td>\n",
       "      <td>Miami</td>\n",
       "      <td>19.0</td>\n",
       "      <td>58.14</td>\n",
       "      <td>266.0</td>\n",
       "      <td>0.0</td>\n",
       "    </tr>\n",
       "  </tbody>\n",
       "</table>\n",
       "</div>"
      ],
      "text/plain": [
       "         Name   Age  Gender     Location  Subscription_Length_Months  \\\n",
       "0  Customer_1  63.0    Male  Los Angeles                        17.0   \n",
       "1  Customer_2  62.0  Female     New York                         1.0   \n",
       "2  Customer_3  24.0  Female  Los Angeles                         5.0   \n",
       "3  Customer_4  36.0  Female        Miami                         3.0   \n",
       "4  Customer_5  46.0  Female        Miami                        19.0   \n",
       "\n",
       "   Monthly_Bill  Total_Usage_GB  Churn  \n",
       "0         73.36           236.0    0.0  \n",
       "1         48.76           172.0    0.0  \n",
       "2         85.47           460.0    0.0  \n",
       "3         97.94           297.0    1.0  \n",
       "4         58.14           266.0    0.0  "
      ]
     },
     "execution_count": 103,
     "metadata": {},
     "output_type": "execute_result"
    }
   ],
   "source": [
    "\n",
    "df=df.drop(['CustomerID'],axis=1)\n",
    "df.head()"
   ]
  },
  {
   "cell_type": "markdown",
   "id": "1ea91b1a",
   "metadata": {},
   "source": [
    "\"Similarly, we can exclude the customer's name from our churn analysis as it has no impact on churn predictions.\""
   ]
  },
  {
   "cell_type": "code",
   "execution_count": 104,
   "id": "e51850a8",
   "metadata": {},
   "outputs": [
    {
     "data": {
      "text/html": [
       "<div>\n",
       "<style scoped>\n",
       "    .dataframe tbody tr th:only-of-type {\n",
       "        vertical-align: middle;\n",
       "    }\n",
       "\n",
       "    .dataframe tbody tr th {\n",
       "        vertical-align: top;\n",
       "    }\n",
       "\n",
       "    .dataframe thead th {\n",
       "        text-align: right;\n",
       "    }\n",
       "</style>\n",
       "<table border=\"1\" class=\"dataframe\">\n",
       "  <thead>\n",
       "    <tr style=\"text-align: right;\">\n",
       "      <th></th>\n",
       "      <th>Age</th>\n",
       "      <th>Gender</th>\n",
       "      <th>Location</th>\n",
       "      <th>Subscription_Length_Months</th>\n",
       "      <th>Monthly_Bill</th>\n",
       "      <th>Total_Usage_GB</th>\n",
       "      <th>Churn</th>\n",
       "    </tr>\n",
       "  </thead>\n",
       "  <tbody>\n",
       "    <tr>\n",
       "      <th>0</th>\n",
       "      <td>63.0</td>\n",
       "      <td>Male</td>\n",
       "      <td>Los Angeles</td>\n",
       "      <td>17.0</td>\n",
       "      <td>73.36</td>\n",
       "      <td>236.0</td>\n",
       "      <td>0.0</td>\n",
       "    </tr>\n",
       "    <tr>\n",
       "      <th>1</th>\n",
       "      <td>62.0</td>\n",
       "      <td>Female</td>\n",
       "      <td>New York</td>\n",
       "      <td>1.0</td>\n",
       "      <td>48.76</td>\n",
       "      <td>172.0</td>\n",
       "      <td>0.0</td>\n",
       "    </tr>\n",
       "    <tr>\n",
       "      <th>2</th>\n",
       "      <td>24.0</td>\n",
       "      <td>Female</td>\n",
       "      <td>Los Angeles</td>\n",
       "      <td>5.0</td>\n",
       "      <td>85.47</td>\n",
       "      <td>460.0</td>\n",
       "      <td>0.0</td>\n",
       "    </tr>\n",
       "    <tr>\n",
       "      <th>3</th>\n",
       "      <td>36.0</td>\n",
       "      <td>Female</td>\n",
       "      <td>Miami</td>\n",
       "      <td>3.0</td>\n",
       "      <td>97.94</td>\n",
       "      <td>297.0</td>\n",
       "      <td>1.0</td>\n",
       "    </tr>\n",
       "    <tr>\n",
       "      <th>4</th>\n",
       "      <td>46.0</td>\n",
       "      <td>Female</td>\n",
       "      <td>Miami</td>\n",
       "      <td>19.0</td>\n",
       "      <td>58.14</td>\n",
       "      <td>266.0</td>\n",
       "      <td>0.0</td>\n",
       "    </tr>\n",
       "  </tbody>\n",
       "</table>\n",
       "</div>"
      ],
      "text/plain": [
       "    Age  Gender     Location  Subscription_Length_Months  Monthly_Bill  \\\n",
       "0  63.0    Male  Los Angeles                        17.0         73.36   \n",
       "1  62.0  Female     New York                         1.0         48.76   \n",
       "2  24.0  Female  Los Angeles                         5.0         85.47   \n",
       "3  36.0  Female        Miami                         3.0         97.94   \n",
       "4  46.0  Female        Miami                        19.0         58.14   \n",
       "\n",
       "   Total_Usage_GB  Churn  \n",
       "0           236.0    0.0  \n",
       "1           172.0    0.0  \n",
       "2           460.0    0.0  \n",
       "3           297.0    1.0  \n",
       "4           266.0    0.0  "
      ]
     },
     "execution_count": 104,
     "metadata": {},
     "output_type": "execute_result"
    }
   ],
   "source": [
    "\n",
    "df=df.drop(['Name'],axis=1)\n",
    "df.head()"
   ]
  },
  {
   "cell_type": "code",
   "execution_count": 105,
   "id": "3b90ec83",
   "metadata": {},
   "outputs": [
    {
     "data": {
      "text/plain": [
       "Age                           0\n",
       "Gender                        0\n",
       "Location                      0\n",
       "Subscription_Length_Months    0\n",
       "Monthly_Bill                  0\n",
       "Total_Usage_GB                0\n",
       "Churn                         0\n",
       "dtype: int64"
      ]
     },
     "execution_count": 105,
     "metadata": {},
     "output_type": "execute_result"
    }
   ],
   "source": [
    "df.isnull().sum()"
   ]
  },
  {
   "cell_type": "code",
   "execution_count": 106,
   "id": "a0d659e0",
   "metadata": {},
   "outputs": [
    {
     "data": {
      "text/plain": [
       "(100000, 7)"
      ]
     },
     "execution_count": 106,
     "metadata": {},
     "output_type": "execute_result"
    }
   ],
   "source": [
    "df.shape"
   ]
  },
  {
   "cell_type": "markdown",
   "id": "bd037913",
   "metadata": {},
   "source": [
    "\"Since there are no missing values or special characters in this dataset, we can proceed further without the need for any data filling or cleaning.\""
   ]
  },
  {
   "cell_type": "code",
   "execution_count": 107,
   "id": "1babc80d",
   "metadata": {},
   "outputs": [
    {
     "data": {
      "text/html": [
       "<div>\n",
       "<style scoped>\n",
       "    .dataframe tbody tr th:only-of-type {\n",
       "        vertical-align: middle;\n",
       "    }\n",
       "\n",
       "    .dataframe tbody tr th {\n",
       "        vertical-align: top;\n",
       "    }\n",
       "\n",
       "    .dataframe thead th {\n",
       "        text-align: right;\n",
       "    }\n",
       "</style>\n",
       "<table border=\"1\" class=\"dataframe\">\n",
       "  <thead>\n",
       "    <tr style=\"text-align: right;\">\n",
       "      <th></th>\n",
       "      <th>Age</th>\n",
       "      <th>Subscription_Length_Months</th>\n",
       "      <th>Monthly_Bill</th>\n",
       "      <th>Total_Usage_GB</th>\n",
       "      <th>Churn</th>\n",
       "    </tr>\n",
       "  </thead>\n",
       "  <tbody>\n",
       "    <tr>\n",
       "      <th>count</th>\n",
       "      <td>100000.000000</td>\n",
       "      <td>100000.000000</td>\n",
       "      <td>100000.000000</td>\n",
       "      <td>100000.000000</td>\n",
       "      <td>100000.000000</td>\n",
       "    </tr>\n",
       "    <tr>\n",
       "      <th>mean</th>\n",
       "      <td>44.027020</td>\n",
       "      <td>12.490100</td>\n",
       "      <td>65.053197</td>\n",
       "      <td>274.393650</td>\n",
       "      <td>0.497790</td>\n",
       "    </tr>\n",
       "    <tr>\n",
       "      <th>std</th>\n",
       "      <td>15.280283</td>\n",
       "      <td>6.926461</td>\n",
       "      <td>20.230696</td>\n",
       "      <td>130.463063</td>\n",
       "      <td>0.499998</td>\n",
       "    </tr>\n",
       "    <tr>\n",
       "      <th>min</th>\n",
       "      <td>18.000000</td>\n",
       "      <td>1.000000</td>\n",
       "      <td>30.000000</td>\n",
       "      <td>50.000000</td>\n",
       "      <td>0.000000</td>\n",
       "    </tr>\n",
       "    <tr>\n",
       "      <th>25%</th>\n",
       "      <td>31.000000</td>\n",
       "      <td>6.000000</td>\n",
       "      <td>47.540000</td>\n",
       "      <td>161.000000</td>\n",
       "      <td>0.000000</td>\n",
       "    </tr>\n",
       "    <tr>\n",
       "      <th>50%</th>\n",
       "      <td>44.000000</td>\n",
       "      <td>12.000000</td>\n",
       "      <td>65.010000</td>\n",
       "      <td>274.000000</td>\n",
       "      <td>0.000000</td>\n",
       "    </tr>\n",
       "    <tr>\n",
       "      <th>75%</th>\n",
       "      <td>57.000000</td>\n",
       "      <td>19.000000</td>\n",
       "      <td>82.640000</td>\n",
       "      <td>387.000000</td>\n",
       "      <td>1.000000</td>\n",
       "    </tr>\n",
       "    <tr>\n",
       "      <th>max</th>\n",
       "      <td>70.000000</td>\n",
       "      <td>24.000000</td>\n",
       "      <td>100.000000</td>\n",
       "      <td>500.000000</td>\n",
       "      <td>1.000000</td>\n",
       "    </tr>\n",
       "  </tbody>\n",
       "</table>\n",
       "</div>"
      ],
      "text/plain": [
       "                 Age  Subscription_Length_Months   Monthly_Bill  \\\n",
       "count  100000.000000               100000.000000  100000.000000   \n",
       "mean       44.027020                   12.490100      65.053197   \n",
       "std        15.280283                    6.926461      20.230696   \n",
       "min        18.000000                    1.000000      30.000000   \n",
       "25%        31.000000                    6.000000      47.540000   \n",
       "50%        44.000000                   12.000000      65.010000   \n",
       "75%        57.000000                   19.000000      82.640000   \n",
       "max        70.000000                   24.000000     100.000000   \n",
       "\n",
       "       Total_Usage_GB          Churn  \n",
       "count   100000.000000  100000.000000  \n",
       "mean       274.393650       0.497790  \n",
       "std        130.463063       0.499998  \n",
       "min         50.000000       0.000000  \n",
       "25%        161.000000       0.000000  \n",
       "50%        274.000000       0.000000  \n",
       "75%        387.000000       1.000000  \n",
       "max        500.000000       1.000000  "
      ]
     },
     "execution_count": 107,
     "metadata": {},
     "output_type": "execute_result"
    }
   ],
   "source": [
    "# finding the absured value in numaric columns\n",
    "df.describe(include='float64')"
   ]
  },
  {
   "cell_type": "code",
   "execution_count": 108,
   "id": "d711a78a",
   "metadata": {},
   "outputs": [
    {
     "data": {
      "text/html": [
       "<div>\n",
       "<style scoped>\n",
       "    .dataframe tbody tr th:only-of-type {\n",
       "        vertical-align: middle;\n",
       "    }\n",
       "\n",
       "    .dataframe tbody tr th {\n",
       "        vertical-align: top;\n",
       "    }\n",
       "\n",
       "    .dataframe thead th {\n",
       "        text-align: right;\n",
       "    }\n",
       "</style>\n",
       "<table border=\"1\" class=\"dataframe\">\n",
       "  <thead>\n",
       "    <tr style=\"text-align: right;\">\n",
       "      <th></th>\n",
       "      <th>Gender</th>\n",
       "      <th>Location</th>\n",
       "    </tr>\n",
       "  </thead>\n",
       "  <tbody>\n",
       "    <tr>\n",
       "      <th>count</th>\n",
       "      <td>100000</td>\n",
       "      <td>100000</td>\n",
       "    </tr>\n",
       "    <tr>\n",
       "      <th>unique</th>\n",
       "      <td>2</td>\n",
       "      <td>5</td>\n",
       "    </tr>\n",
       "    <tr>\n",
       "      <th>top</th>\n",
       "      <td>Female</td>\n",
       "      <td>Houston</td>\n",
       "    </tr>\n",
       "    <tr>\n",
       "      <th>freq</th>\n",
       "      <td>50216</td>\n",
       "      <td>20157</td>\n",
       "    </tr>\n",
       "  </tbody>\n",
       "</table>\n",
       "</div>"
      ],
      "text/plain": [
       "        Gender Location\n",
       "count   100000   100000\n",
       "unique       2        5\n",
       "top     Female  Houston\n",
       "freq     50216    20157"
      ]
     },
     "execution_count": 108,
     "metadata": {},
     "output_type": "execute_result"
    }
   ],
   "source": [
    "df.describe(include='object')"
   ]
  },
  {
   "cell_type": "markdown",
   "id": "ce35aadc",
   "metadata": {},
   "source": [
    "# Data visualization & feature engineering "
   ]
  },
  {
   "cell_type": "code",
   "execution_count": 109,
   "id": "40cb3702",
   "metadata": {},
   "outputs": [
    {
     "data": {
      "image/png": "[encoded data removed]",
      "text/plain": [
       "<Figure size 432x288 with 1 Axes>"
      ]
     },
     "metadata": {
      "needs_background": "light"
     },
     "output_type": "display_data"
    },
    {
     "data": {
      "image/png": "[encoded data removed]",
      "text/plain": [
       "<Figure size 432x288 with 1 Axes>"
      ]
     },
     "metadata": {
      "needs_background": "light"
     },
     "output_type": "display_data"
    },
    {
     "data": {
      "image/png": "[encoded data removed]",
      "text/plain": [
       "<Figure size 432x288 with 1 Axes>"
      ]
     },
     "metadata": {
      "needs_background": "light"
     },
     "output_type": "display_data"
    },
    {
     "data": {
      "image/png": "[encoded data removed]",
      "text/plain": [
       "<Figure size 432x288 with 1 Axes>"
      ]
     },
     "metadata": {
      "needs_background": "light"
     },
     "output_type": "display_data"
    },
    {
     "data": {
      "image/png": "[encoded data removed]",
      "text/plain": [
       "<Figure size 432x288 with 1 Axes>"
      ]
     },
     "metadata": {
      "needs_background": "light"
     },
     "output_type": "display_data"
    }
   ],
   "source": [
    "for i in df.columns:\n",
    "    if(df[i].dtypes=='int64' or df[i].dtypes=='float64'):\n",
    "        sns.boxplot(df[i])\n",
    "        plt.show()"
   ]
  },
  {
   "cell_type": "markdown",
   "id": "d2c2e5fc",
   "metadata": {},
   "source": [
    "\"In our analysis, we observe that there are no outliers present in any of the numeric columns. Therefore, there is no need to remove any outliers at this stage. However, if we encounter outliers in the data in the future, we can employ methods such as the Z-score or Interquartile Range (IQR) method to address and handle them.\""
   ]
  },
  {
   "cell_type": "markdown",
   "id": "6ec566cd",
   "metadata": {},
   "source": [
    "# Lable encoding \n",
    "\n",
    "\"We will utilize one-hot encoding to transform our categorical features into integers.\""
   ]
  },
  {
   "cell_type": "code",
   "execution_count": 110,
   "id": "19f20bde",
   "metadata": {},
   "outputs": [],
   "source": [
    "from sklearn.preprocessing import LabelEncoder\n",
    "le=LabelEncoder()\n",
    "for i in df.columns:\n",
    "    if df[i].dtype =='object':\n",
    "        df[i] = le.fit_transform(df[i])\n",
    "    "
   ]
  },
  {
   "cell_type": "markdown",
   "id": "e67ac0e4",
   "metadata": {},
   "source": [
    "\n"
   ]
  },
  {
   "cell_type": "markdown",
   "id": "1c1a2e6d",
   "metadata": {},
   "source": [
    "# feature selection "
   ]
  },
  {
   "cell_type": "code",
   "execution_count": 111,
   "id": "74d99bf7",
   "metadata": {},
   "outputs": [
    {
     "data": {
      "image/png": "[encoded data removed]",
      "text/plain": [
       "<Figure size 720x360 with 2 Axes>"
      ]
     },
     "metadata": {
      "needs_background": "light"
     },
     "output_type": "display_data"
    }
   ],
   "source": [
    "# correlation graph method \n",
    "plt.figure(figsize=(10,5))\n",
    "sns.heatmap(df.corr(),annot=True,cmap=\"coolwarm\")\n",
    "plt.show()"
   ]
  },
  {
   "cell_type": "markdown",
   "id": "88fbf83b",
   "metadata": {},
   "source": [
    "\"Based on the correlation graph, we can observe that the differences between the correlations are quite small. Therefore, we will proceed to the next method, which is VIF (Variance Inflation Factor).\""
   ]
  },
  {
   "cell_type": "code",
   "execution_count": 112,
   "id": "de073436",
   "metadata": {},
   "outputs": [
    {
     "data": {
      "text/html": [
       "<div>\n",
       "<style scoped>\n",
       "    .dataframe tbody tr th:only-of-type {\n",
       "        vertical-align: middle;\n",
       "    }\n",
       "\n",
       "    .dataframe tbody tr th {\n",
       "        vertical-align: top;\n",
       "    }\n",
       "\n",
       "    .dataframe thead th {\n",
       "        text-align: right;\n",
       "    }\n",
       "</style>\n",
       "<table border=\"1\" class=\"dataframe\">\n",
       "  <thead>\n",
       "    <tr style=\"text-align: right;\">\n",
       "      <th></th>\n",
       "      <th>Age</th>\n",
       "      <th>Gender</th>\n",
       "      <th>Location</th>\n",
       "      <th>Subscription_Length_Months</th>\n",
       "      <th>Monthly_Bill</th>\n",
       "      <th>Total_Usage_GB</th>\n",
       "      <th>Churn</th>\n",
       "    </tr>\n",
       "  </thead>\n",
       "  <tbody>\n",
       "    <tr>\n",
       "      <th>0</th>\n",
       "      <td>63.0</td>\n",
       "      <td>1</td>\n",
       "      <td>2</td>\n",
       "      <td>17.0</td>\n",
       "      <td>73.36</td>\n",
       "      <td>236.0</td>\n",
       "      <td>0.0</td>\n",
       "    </tr>\n",
       "    <tr>\n",
       "      <th>1</th>\n",
       "      <td>62.0</td>\n",
       "      <td>0</td>\n",
       "      <td>4</td>\n",
       "      <td>1.0</td>\n",
       "      <td>48.76</td>\n",
       "      <td>172.0</td>\n",
       "      <td>0.0</td>\n",
       "    </tr>\n",
       "    <tr>\n",
       "      <th>2</th>\n",
       "      <td>24.0</td>\n",
       "      <td>0</td>\n",
       "      <td>2</td>\n",
       "      <td>5.0</td>\n",
       "      <td>85.47</td>\n",
       "      <td>460.0</td>\n",
       "      <td>0.0</td>\n",
       "    </tr>\n",
       "    <tr>\n",
       "      <th>3</th>\n",
       "      <td>36.0</td>\n",
       "      <td>0</td>\n",
       "      <td>3</td>\n",
       "      <td>3.0</td>\n",
       "      <td>97.94</td>\n",
       "      <td>297.0</td>\n",
       "      <td>1.0</td>\n",
       "    </tr>\n",
       "    <tr>\n",
       "      <th>4</th>\n",
       "      <td>46.0</td>\n",
       "      <td>0</td>\n",
       "      <td>3</td>\n",
       "      <td>19.0</td>\n",
       "      <td>58.14</td>\n",
       "      <td>266.0</td>\n",
       "      <td>0.0</td>\n",
       "    </tr>\n",
       "  </tbody>\n",
       "</table>\n",
       "</div>"
      ],
      "text/plain": [
       "    Age  Gender  Location  Subscription_Length_Months  Monthly_Bill  \\\n",
       "0  63.0       1         2                        17.0         73.36   \n",
       "1  62.0       0         4                         1.0         48.76   \n",
       "2  24.0       0         2                         5.0         85.47   \n",
       "3  36.0       0         3                         3.0         97.94   \n",
       "4  46.0       0         3                        19.0         58.14   \n",
       "\n",
       "   Total_Usage_GB  Churn  \n",
       "0           236.0    0.0  \n",
       "1           172.0    0.0  \n",
       "2           460.0    0.0  \n",
       "3           297.0    1.0  \n",
       "4           266.0    0.0  "
      ]
     },
     "execution_count": 112,
     "metadata": {},
     "output_type": "execute_result"
    }
   ],
   "source": [
    "df.head()"
   ]
  },
  {
   "cell_type": "code",
   "execution_count": 113,
   "id": "c3132716",
   "metadata": {},
   "outputs": [
    {
     "name": "stdout",
     "output_type": "stream",
     "text": [
      "<class 'pandas.core.frame.DataFrame'>\n",
      "RangeIndex: 100000 entries, 0 to 99999\n",
      "Data columns (total 7 columns):\n",
      " #   Column                      Non-Null Count   Dtype  \n",
      "---  ------                      --------------   -----  \n",
      " 0   Age                         100000 non-null  float64\n",
      " 1   Gender                      100000 non-null  int32  \n",
      " 2   Location                    100000 non-null  int32  \n",
      " 3   Subscription_Length_Months  100000 non-null  float64\n",
      " 4   Monthly_Bill                100000 non-null  float64\n",
      " 5   Total_Usage_GB              100000 non-null  float64\n",
      " 6   Churn                       100000 non-null  float64\n",
      "dtypes: float64(5), int32(2)\n",
      "memory usage: 4.6 MB\n"
     ]
    }
   ],
   "source": [
    "df.info()"
   ]
  },
  {
   "cell_type": "markdown",
   "id": "eae468ab",
   "metadata": {},
   "source": [
    "# VIF method for feature selection "
   ]
  },
  {
   "cell_type": "code",
   "execution_count": 114,
   "id": "b6419c6a",
   "metadata": {},
   "outputs": [
    {
     "data": {
      "text/html": [
       "<div>\n",
       "<style scoped>\n",
       "    .dataframe tbody tr th:only-of-type {\n",
       "        vertical-align: middle;\n",
       "    }\n",
       "\n",
       "    .dataframe tbody tr th {\n",
       "        vertical-align: top;\n",
       "    }\n",
       "\n",
       "    .dataframe thead th {\n",
       "        text-align: right;\n",
       "    }\n",
       "</style>\n",
       "<table border=\"1\" class=\"dataframe\">\n",
       "  <thead>\n",
       "    <tr style=\"text-align: right;\">\n",
       "      <th></th>\n",
       "      <th>Features</th>\n",
       "      <th>VIF</th>\n",
       "    </tr>\n",
       "  </thead>\n",
       "  <tbody>\n",
       "    <tr>\n",
       "      <th>4</th>\n",
       "      <td>Monthly_Bill</td>\n",
       "      <td>7.48</td>\n",
       "    </tr>\n",
       "    <tr>\n",
       "      <th>0</th>\n",
       "      <td>Age</td>\n",
       "      <td>6.76</td>\n",
       "    </tr>\n",
       "    <tr>\n",
       "      <th>5</th>\n",
       "      <td>Total_Usage_GB</td>\n",
       "      <td>4.64</td>\n",
       "    </tr>\n",
       "    <tr>\n",
       "      <th>3</th>\n",
       "      <td>Subscription_Length_Months</td>\n",
       "      <td>3.79</td>\n",
       "    </tr>\n",
       "    <tr>\n",
       "      <th>2</th>\n",
       "      <td>Location</td>\n",
       "      <td>2.80</td>\n",
       "    </tr>\n",
       "    <tr>\n",
       "      <th>1</th>\n",
       "      <td>Gender</td>\n",
       "      <td>1.93</td>\n",
       "    </tr>\n",
       "  </tbody>\n",
       "</table>\n",
       "</div>"
      ],
      "text/plain": [
       "                     Features   VIF\n",
       "4                Monthly_Bill  7.48\n",
       "0                         Age  6.76\n",
       "5              Total_Usage_GB  4.64\n",
       "3  Subscription_Length_Months  3.79\n",
       "2                    Location  2.80\n",
       "1                      Gender  1.93"
      ]
     },
     "execution_count": 114,
     "metadata": {},
     "output_type": "execute_result"
    }
   ],
   "source": [
    "from statsmodels.stats.outliers_influence import variance_inflation_factor\n",
    "col=[]\n",
    "for i in df.columns:\n",
    "    if((df[i].dtypes !='object') & (i !='Churn')):\n",
    "        col.append(i)\n",
    "\n",
    "X=df[col]\n",
    "vif=pd.DataFrame()\n",
    "vif['Features']=X.columns\n",
    "vif['VIF']=[variance_inflation_factor(X.values,i)for i in range(X.shape[1])]\n",
    "vif['VIF']=round(vif['VIF'],2)\n",
    "vif=vif.sort_values(by=\"VIF\",ascending=False)\n",
    "vif"
   ]
  },
  {
   "cell_type": "markdown",
   "id": "c3db0342",
   "metadata": {},
   "source": [
    "VIF, or Variance Inflation Factor, is a statistical measure used to assess multicollinearity among independent variables in a regression analysis. When the VIF for a variable is greater than 5, it suggests that this variable has a high degree of multicollinearity with other variables in the model.\n",
    "\n",
    "In your context, if the VIF for the \"Age\" and \"Monthly Bill\" variables is greater than 5, it indicates that these variables exhibit strong multicollinearity with other predictors. As a result, removing these variables from the analysis can help mitigate multicollinearity issues and improve the model's stability and interpretability."
   ]
  },
  {
   "cell_type": "code",
   "execution_count": 115,
   "id": "bab425b3",
   "metadata": {},
   "outputs": [
    {
     "data": {
      "text/html": [
       "<div>\n",
       "<style scoped>\n",
       "    .dataframe tbody tr th:only-of-type {\n",
       "        vertical-align: middle;\n",
       "    }\n",
       "\n",
       "    .dataframe tbody tr th {\n",
       "        vertical-align: top;\n",
       "    }\n",
       "\n",
       "    .dataframe thead th {\n",
       "        text-align: right;\n",
       "    }\n",
       "</style>\n",
       "<table border=\"1\" class=\"dataframe\">\n",
       "  <thead>\n",
       "    <tr style=\"text-align: right;\">\n",
       "      <th></th>\n",
       "      <th>Gender</th>\n",
       "      <th>Location</th>\n",
       "      <th>Subscription_Length_Months</th>\n",
       "      <th>Total_Usage_GB</th>\n",
       "      <th>Churn</th>\n",
       "    </tr>\n",
       "  </thead>\n",
       "  <tbody>\n",
       "    <tr>\n",
       "      <th>0</th>\n",
       "      <td>1</td>\n",
       "      <td>2</td>\n",
       "      <td>17.0</td>\n",
       "      <td>236.0</td>\n",
       "      <td>0.0</td>\n",
       "    </tr>\n",
       "    <tr>\n",
       "      <th>1</th>\n",
       "      <td>0</td>\n",
       "      <td>4</td>\n",
       "      <td>1.0</td>\n",
       "      <td>172.0</td>\n",
       "      <td>0.0</td>\n",
       "    </tr>\n",
       "    <tr>\n",
       "      <th>2</th>\n",
       "      <td>0</td>\n",
       "      <td>2</td>\n",
       "      <td>5.0</td>\n",
       "      <td>460.0</td>\n",
       "      <td>0.0</td>\n",
       "    </tr>\n",
       "    <tr>\n",
       "      <th>3</th>\n",
       "      <td>0</td>\n",
       "      <td>3</td>\n",
       "      <td>3.0</td>\n",
       "      <td>297.0</td>\n",
       "      <td>1.0</td>\n",
       "    </tr>\n",
       "    <tr>\n",
       "      <th>4</th>\n",
       "      <td>0</td>\n",
       "      <td>3</td>\n",
       "      <td>19.0</td>\n",
       "      <td>266.0</td>\n",
       "      <td>0.0</td>\n",
       "    </tr>\n",
       "  </tbody>\n",
       "</table>\n",
       "</div>"
      ],
      "text/plain": [
       "   Gender  Location  Subscription_Length_Months  Total_Usage_GB  Churn\n",
       "0       1         2                        17.0           236.0    0.0\n",
       "1       0         4                         1.0           172.0    0.0\n",
       "2       0         2                         5.0           460.0    0.0\n",
       "3       0         3                         3.0           297.0    1.0\n",
       "4       0         3                        19.0           266.0    0.0"
      ]
     },
     "execution_count": 115,
     "metadata": {},
     "output_type": "execute_result"
    }
   ],
   "source": [
    "df=df.drop(['Monthly_Bill','Age'],axis=1)\n",
    "df.head()"
   ]
  },
  {
   "cell_type": "markdown",
   "id": "3f918ba1",
   "metadata": {},
   "source": [
    "In our analysis, we will designate the target variable as 'Churn,' while considering all other variables, excluding 'Churn,' as independent variables."
   ]
  },
  {
   "cell_type": "code",
   "execution_count": 124,
   "id": "e4666c2a",
   "metadata": {},
   "outputs": [],
   "source": [
    "x=df.drop(['Churn'],axis=1)\n",
    "y=df['Churn'].values"
   ]
  },
  {
   "cell_type": "markdown",
   "id": "922cb5ec",
   "metadata": {},
   "source": [
    "# Train test split "
   ]
  },
  {
   "cell_type": "code",
   "execution_count": 125,
   "id": "462bb8d6",
   "metadata": {},
   "outputs": [],
   "source": [
    "from sklearn.model_selection import train_test_split\n",
    "X_train,X_test,y_train,y_test=train_test_split(X,y,test_size=0.20,random_state=42)"
   ]
  },
  {
   "cell_type": "markdown",
   "id": "90152146",
   "metadata": {},
   "source": [
    "# Random forest "
   ]
  },
  {
   "cell_type": "code",
   "execution_count": 129,
   "id": "c3f03431",
   "metadata": {},
   "outputs": [
    {
     "data": {
      "text/html": [
       "<style>#sk-container-id-1 {color: black;background-color: white;}#sk-container-id-1 pre{padding: 0;}#sk-container-id-1 div.sk-toggleable {background-color: white;}#sk-container-id-1 label.sk-toggleable__label {cursor: pointer;display: block;width: 100%;margin-bottom: 0;padding: 0.3em;box-sizing: border-box;text-align: center;}#sk-container-id-1 label.sk-toggleable__label-arrow:before {content: \"▸\";float: left;margin-right: 0.25em;color: #696969;}#sk-container-id-1 label.sk-toggleable__label-arrow:hover:before {color: black;}#sk-container-id-1 div.sk-estimator:hover label.sk-toggleable__label-arrow:before {color: black;}#sk-container-id-1 div.sk-toggleable__content {max-height: 0;max-width: 0;overflow: hidden;text-align: left;background-color: #f0f8ff;}#sk-container-id-1 div.sk-toggleable__content pre {margin: 0.2em;color: black;border-radius: 0.25em;background-color: #f0f8ff;}#sk-container-id-1 input.sk-toggleable__control:checked~div.sk-toggleable__content {max-height: 200px;max-width: 100%;overflow: auto;}#sk-container-id-1 input.sk-toggleable__control:checked~label.sk-toggleable__label-arrow:before {content: \"▾\";}#sk-container-id-1 div.sk-estimator input.sk-toggleable__control:checked~label.sk-toggleable__label {background-color: #d4ebff;}#sk-container-id-1 div.sk-label input.sk-toggleable__control:checked~label.sk-toggleable__label {background-color: #d4ebff;}#sk-container-id-1 input.sk-hidden--visually {border: 0;clip: rect(1px 1px 1px 1px);clip: rect(1px, 1px, 1px, 1px);height: 1px;margin: -1px;overflow: hidden;padding: 0;position: absolute;width: 1px;}#sk-container-id-1 div.sk-estimator {font-family: monospace;background-color: #f0f8ff;border: 1px dotted black;border-radius: 0.25em;box-sizing: border-box;margin-bottom: 0.5em;}#sk-container-id-1 div.sk-estimator:hover {background-color: #d4ebff;}#sk-container-id-1 div.sk-parallel-item::after {content: \"\";width: 100%;border-bottom: 1px solid gray;flex-grow: 1;}#sk-container-id-1 div.sk-label:hover label.sk-toggleable__label {background-color: #d4ebff;}#sk-container-id-1 div.sk-serial::before {content: \"\";position: absolute;border-left: 1px solid gray;box-sizing: border-box;top: 0;bottom: 0;left: 50%;z-index: 0;}#sk-container-id-1 div.sk-serial {display: flex;flex-direction: column;align-items: center;background-color: white;padding-right: 0.2em;padding-left: 0.2em;position: relative;}#sk-container-id-1 div.sk-item {position: relative;z-index: 1;}#sk-container-id-1 div.sk-parallel {display: flex;align-items: stretch;justify-content: center;background-color: white;position: relative;}#sk-container-id-1 div.sk-item::before, #sk-container-id-1 div.sk-parallel-item::before {content: \"\";position: absolute;border-left: 1px solid gray;box-sizing: border-box;top: 0;bottom: 0;left: 50%;z-index: -1;}#sk-container-id-1 div.sk-parallel-item {display: flex;flex-direction: column;z-index: 1;position: relative;background-color: white;}#sk-container-id-1 div.sk-parallel-item:first-child::after {align-self: flex-end;width: 50%;}#sk-container-id-1 div.sk-parallel-item:last-child::after {align-self: flex-start;width: 50%;}#sk-container-id-1 div.sk-parallel-item:only-child::after {width: 0;}#sk-container-id-1 div.sk-dashed-wrapped {border: 1px dashed gray;margin: 0 0.4em 0.5em 0.4em;box-sizing: border-box;padding-bottom: 0.4em;background-color: white;}#sk-container-id-1 div.sk-label label {font-family: monospace;font-weight: bold;display: inline-block;line-height: 1.2em;}#sk-container-id-1 div.sk-label-container {text-align: center;}#sk-container-id-1 div.sk-container {/* jupyter's `normalize.less` sets `[hidden] { display: none; }` but bootstrap.min.css set `[hidden] { display: none !important; }` so we also need the `!important` here to be able to override the default hidden behavior on the sphinx rendered scikit-learn.org. See: https://github.com/scikit-learn/scikit-learn/issues/21755 */display: inline-block !important;position: relative;}#sk-container-id-1 div.sk-text-repr-fallback {display: none;}</style><div id=\"sk-container-id-1\" class=\"sk-top-container\"><div class=\"sk-text-repr-fallback\"><pre>RandomForestClassifier(max_features=&#x27;auto&#x27;, max_leaf_nodes=35,\n",
       "                       n_estimators=1000, n_jobs=-1, oob_score=True,\n",
       "                       random_state=65)</pre><b>In a Jupyter environment, please rerun this cell to show the HTML representation or trust the notebook. <br />On GitHub, the HTML representation is unable to render, please try loading this page with nbviewer.org.</b></div><div class=\"sk-container\" hidden><div class=\"sk-item\"><div class=\"sk-estimator sk-toggleable\"><input class=\"sk-toggleable__control sk-hidden--visually\" id=\"sk-estimator-id-1\" type=\"checkbox\" checked><label for=\"sk-estimator-id-1\" class=\"sk-toggleable__label sk-toggleable__label-arrow\">RandomForestClassifier</label><div class=\"sk-toggleable__content\"><pre>RandomForestClassifier(max_features=&#x27;auto&#x27;, max_leaf_nodes=35,\n",
       "                       n_estimators=1000, n_jobs=-1, oob_score=True,\n",
       "                       random_state=65)</pre></div></div></div></div></div>"
      ],
      "text/plain": [
       "RandomForestClassifier(max_features='auto', max_leaf_nodes=35,\n",
       "                       n_estimators=1000, n_jobs=-1, oob_score=True,\n",
       "                       random_state=65)"
      ]
     },
     "execution_count": 129,
     "metadata": {},
     "output_type": "execute_result"
    }
   ],
   "source": [
    "model_rf = RandomForestClassifier(n_estimators=1000 , oob_score = True, n_jobs = -1,\n",
    "                                  random_state =65, max_features = \"auto\",\n",
    "                                  max_leaf_nodes = 35)\n",
    "model_rf.fit(X_train, y_train)\n"
   ]
  },
  {
   "cell_type": "markdown",
   "id": "6357d641",
   "metadata": {},
   "source": [
    "# Classification metrices"
   ]
  },
  {
   "cell_type": "markdown",
   "id": "c64a9d76",
   "metadata": {},
   "source": [
    "classification report is another way to evaluate the classification model it displays the precission ,recall and f1 score"
   ]
  },
  {
   "cell_type": "code",
   "execution_count": 128,
   "id": "8ddea1d6",
   "metadata": {},
   "outputs": [
    {
     "name": "stdout",
     "output_type": "stream",
     "text": [
      "0.50225\n",
      "------------------------------------------------------------\n",
      "              precision    recall  f1-score   support\n",
      "\n",
      "         0.0       0.50      0.64      0.57     10079\n",
      "         1.0       0.50      0.36      0.42      9921\n",
      "\n",
      "    accuracy                           0.50     20000\n",
      "   macro avg       0.50      0.50      0.49     20000\n",
      "weighted avg       0.50      0.50      0.49     20000\n",
      "\n"
     ]
    }
   ],
   "source": [
    "\n",
    "# Make predictions\n",
    "prediction_test = model_rf.predict(X_test)\n",
    "print (metrics.accuracy_score(y_test, prediction_test))\n",
    "print('-'*60)\n",
    "\n",
    "\n",
    "\n",
    "print(classification_report(y_test, prediction_test))\n"
   ]
  },
  {
   "cell_type": "markdown",
   "id": "3e321d68",
   "metadata": {},
   "source": [
    "**Classification error**"
   ]
  },
  {
   "cell_type": "markdown",
   "id": "14a96f79",
   "metadata": {},
   "source": [
    "classification_error=1-classification_accuracy\n",
    "classification_error or there is another way\n",
    "\n",
    "\n",
    "\n",
    "classification_error=(FN+FP)/float(TP+TN+FN+FP)\n",
    "classification_error"
   ]
  },
  {
   "cell_type": "markdown",
   "id": "fb4bd351",
   "metadata": {},
   "source": [
    "**Precision**\n",
    "\n",
    "\n",
    "Precision can be defined as the percentage of correctly predicted positive outcomes out of all the predicted positive outcomes. It can be given as the ratio of true positives (TP) to the sum of true and false positives (TP + FP).\n",
    "\n",
    "So, Precision identifies the proportion of correctly predicted positive outcome. It is more concerned with the positive class than the negative class.\n",
    "\n",
    "Mathematically, precision can be defined as the ratio of TP to (TP + FP)."
   ]
  },
  {
   "cell_type": "markdown",
   "id": "53be3cb3",
   "metadata": {},
   "source": [
    "**Recall**   (Sensitivity) or True Positive Rate\n",
    "Recall can be defined as the percentage of correctly predicted positive outcomes out of all the actual positive outcomes. It can be given as the ratio of true positives (TP) to the sum of true positives and false negatives (TP + FN). Recall is also called Sensitivity.\n",
    "\n",
    "Recall identifies the proportion of correctly predicted actual positives.\n",
    "\n",
    "Mathematically, recall can be given as the ratio of TP to (TP + FN)."
   ]
  },
  {
   "cell_type": "markdown",
   "id": "8d9a57cc",
   "metadata": {},
   "source": [
    "**Specificity**\n",
    "specificity = TN / (TN + FP)\n",
    "\n",
    "specificity ia the ratio of True negative(TN) to (TN+FP)"
   ]
  },
  {
   "cell_type": "markdown",
   "id": "6666cd6c",
   "metadata": {},
   "source": [
    "**False positivity rate**=1-specificity "
   ]
  },
  {
   "cell_type": "code",
   "execution_count": 118,
   "id": "c6700f62",
   "metadata": {},
   "outputs": [
    {
     "name": "stdout",
     "output_type": "stream",
     "text": [
      "------------------------------------------------------------\n"
     ]
    },
    {
     "data": {
      "image/png": "[encoded data removed]",
      "text/plain": [
       "<Figure size 288x216 with 2 Axes>"
      ]
     },
     "metadata": {
      "needs_background": "light"
     },
     "output_type": "display_data"
    }
   ],
   "source": [
    "print('-'*60)\n",
    "\n",
    "plt.figure(figsize=(4,3))\n",
    "sns.heatmap(confusion_matrix(y_test, prediction_test),annot=True,fmt = \"d\",linecolor=\"k\",linewidths=3)\n",
    "\n",
    "    \n",
    "plt.title(\" RANDOM FOREST CONFUSION MATRIX\",fontsize=14)\n",
    "plt.show()"
   ]
  },
  {
   "cell_type": "markdown",
   "id": "8752c0a3",
   "metadata": {},
   "source": [
    "**confusion matrics**\n",
    "it summrizes our performance and also give us the idea that how many predicted values are coreect and incorrect our model and gives us in the tabulr form\n",
    "\n",
    "in this matrics we draw a table between predicted results and actual results and compare them\n",
    "\n",
    "**True positive**:- when our predicted result and actual results both are present in positve class like both results are predicting a person got an heart attack then it is called truepostitve .\n",
    "\n",
    "**True negative** :- when our actual results and predicted results both are in smae class and both are saying that he diddnt get an heart attack\n",
    "\n",
    "**False positive**:- when our actual is negative and our predicted is positive then it is called false positive and it is a type 1 error\n",
    "\n",
    "**False negative**:- when our actual is positve and our predictions are saying that it is negative then it is False negative eg:prediction not an heart attack and actual heart attck so it is very lethtal and this type of error is called *type 2 error *"
   ]
  },
  {
   "cell_type": "code",
   "execution_count": 119,
   "id": "133b8fa7",
   "metadata": {},
   "outputs": [
    {
     "name": "stdout",
     "output_type": "stream",
     "text": [
      "------------------------------------------------------------\n"
     ]
    },
    {
     "data": {
      "image/png": "[encoded data removed]",
      "text/plain": [
       "<Figure size 576x360 with 1 Axes>"
      ]
     },
     "metadata": {
      "needs_background": "light"
     },
     "output_type": "display_data"
    }
   ],
   "source": [
    "\n",
    "print('-'*60)\n",
    "\n",
    "y_rfpred_prob = model_rf.predict_proba(X_test)[:,1]\n",
    "fpr_rf, tpr_rf, thresholds = roc_curve(y_test, y_rfpred_prob)\n",
    "plt.figure(figsize=(8, 5))\n",
    "plt.plot([0, 1], [0, 1], 'k--' )\n",
    "plt.plot(fpr_rf, tpr_rf, label='Random Forest',color = \"r\")\n",
    "plt.xlabel('False Positive Rate')\n",
    "plt.ylabel('True Positive Rate')\n",
    "plt.title('Random Forest ROC Curve',fontsize=16)\n",
    "plt.show();"
   ]
  },
  {
   "cell_type": "markdown",
   "id": "36234570",
   "metadata": {},
   "source": [
    "# Roc curve \n",
    "Receiver Operating Characteristic Curve\n",
    "\n",
    "It is a tool to use the measure the performance of a classification problem visually\n",
    "\n",
    "**it is used to measuree the performance of the model on diffrent thresh hold level **\n",
    "\n",
    "Roc curve will be plot between **True positive rate and False positive rate **\n",
    "\n",
    "**True positive rate (recall or sensitivity): (TP)/(TP+FN)**\n",
    "\n",
    "**Flase positive rate : (1-specifity) specifity=(TN)/(TN+FP)**\n",
    "\n",
    "IN the ROC curve we will focus on the value of TPR and FPR here we take y-axis as TPR and x-aix as FPR in this graph we will\n",
    "\n",
    "focus on the tpr and fpr of a single point at diffrent thresh hold levels\n",
    "\n",
    "first we will start the threshhold from o where all the points will convert into either in TP or in FP\n",
    "\n",
    "after that we will increase the threshhold level by increasing the thresh hold level the value of TP and FP will also change"
   ]
  },
  {
   "cell_type": "markdown",
   "id": "ae16aae4",
   "metadata": {},
   "source": [
    "## ROC AUC\n",
    "ROC AUC stands for Receiver Operating Characteristic - Area Under Curve. It is a technique to compare classifier performance. In this technique, we measure the area under the curve (AUC). **A perfect classifier will have a ROC AUC equal to 1, whereas a purely random classifier will have a ROC AUC equal to 0.5.**\n",
    "\n",
    "So, ROC AUC is the percentage of the ROC plot that is underneath the curve."
   ]
  },
  {
   "cell_type": "markdown",
   "id": "622e926e",
   "metadata": {},
   "source": [
    "# Logistic regression "
   ]
  },
  {
   "cell_type": "code",
   "execution_count": 122,
   "id": "729ad25f",
   "metadata": {},
   "outputs": [
    {
     "name": "stdout",
     "output_type": "stream",
     "text": [
      "Logistic Regression accuracy is : 0.4971\n",
      "------------------------------------------------------------\n",
      "              precision    recall  f1-score   support\n",
      "\n",
      "         0.0       0.50      0.60      0.55     10079\n",
      "         1.0       0.49      0.39      0.44      9921\n",
      "\n",
      "    accuracy                           0.50     20000\n",
      "   macro avg       0.50      0.50      0.49     20000\n",
      "weighted avg       0.50      0.50      0.49     20000\n",
      "\n"
     ]
    }
   ],
   "source": [
    "lr_model = LogisticRegression()\n",
    "lr_model.fit(X_train,y_train)\n",
    "accuracy_lr = lr_model.score(X_test,y_test)\n",
    "print(\"Logistic Regression accuracy is :\",accuracy_lr)\n",
    "print('-'*60)\n",
    "\n",
    "lr_pred= lr_model.predict(X_test)\n",
    "report = classification_report(y_test,lr_pred)\n",
    "print(report)\n",
    "\n",
    "\n"
   ]
  },
  {
   "cell_type": "code",
   "execution_count": 121,
   "id": "03ade317",
   "metadata": {},
   "outputs": [
    {
     "name": "stdout",
     "output_type": "stream",
     "text": [
      "------------------------------------------------------------\n"
     ]
    },
    {
     "data": {
      "image/png": "[encoded data removed]",
      "text/plain": [
       "<Figure size 288x216 with 2 Axes>"
      ]
     },
     "metadata": {
      "needs_background": "light"
     },
     "output_type": "display_data"
    }
   ],
   "source": [
    "print('-'*60)\n",
    "\n",
    "plt.figure(figsize=(4,3))\n",
    "sns.heatmap(confusion_matrix(y_test, lr_pred),annot=True,fmt = \"d\",linecolor=\"k\",linewidths=3)    \n",
    "plt.title(\"LOGISTIC REGRESSION CONFUSION MATRIX\",fontsize=14)\n",
    "plt.show()"
   ]
  },
  {
   "cell_type": "code",
   "execution_count": 91,
   "id": "a1b61950",
   "metadata": {},
   "outputs": [
    {
     "name": "stdout",
     "output_type": "stream",
     "text": [
      "------------------------------------------------------------\n"
     ]
    },
    {
     "data": {
      "image/png": "[encoded data removed]",
      "text/plain": [
       "<Figure size 504x288 with 1 Axes>"
      ]
     },
     "metadata": {
      "needs_background": "light"
     },
     "output_type": "display_data"
    }
   ],
   "source": [
    "print('-'*60)\n",
    "\n",
    "y_pred_prob = lr_model.predict_proba(X_test)[:,1]\n",
    "fpr, tpr, thresholds = roc_curve(y_test, y_pred_prob)\n",
    "plt.figure(figsize=(7, 4))\n",
    "\n",
    "plt.plot([0, 1], [0, 1], 'k--' )\n",
    "plt.plot(fpr, tpr, label='Logistic Regression',color = \"r\")\n",
    "plt.xlabel('False Positive Rate')\n",
    "plt.ylabel('True Positive Rate')\n",
    "plt.title('Logistic Regression ROC Curve',fontsize=16)\n",
    "plt.show();"
   ]
  },
  {
   "cell_type": "markdown",
   "id": "223188da",
   "metadata": {},
   "source": [
    "# Decision tree classifier"
   ]
  },
  {
   "cell_type": "code",
   "execution_count": 90,
   "id": "87ba113f",
   "metadata": {},
   "outputs": [
    {
     "name": "stdout",
     "output_type": "stream",
     "text": [
      "Decision Tree accuracy is : 0.4992\n",
      "              precision    recall  f1-score   support\n",
      "\n",
      "         0.0       0.50      0.50      0.50     10079\n",
      "         1.0       0.50      0.50      0.50      9921\n",
      "\n",
      "    accuracy                           0.50     20000\n",
      "   macro avg       0.50      0.50      0.50     20000\n",
      "weighted avg       0.50      0.50      0.50     20000\n",
      "\n"
     ]
    }
   ],
   "source": [
    "dt_model = DecisionTreeClassifier()\n",
    "dt_model.fit(X_train,y_train)\n",
    "predictdt_y = dt_model.predict(X_test)\n",
    "accuracy_dt = dt_model.score(X_test,y_test)\n",
    "print(\"Decision Tree accuracy is :\",accuracy_dt)\n",
    "\n",
    "print(classification_report(y_test, predictdt_y))\n",
    "\n"
   ]
  },
  {
   "cell_type": "code",
   "execution_count": 92,
   "id": "a400b50b",
   "metadata": {},
   "outputs": [
    {
     "name": "stdout",
     "output_type": "stream",
     "text": [
      "------------------------------------------------------------\n"
     ]
    },
    {
     "data": {
      "image/png": "[encoded data removed]",
      "text/plain": [
       "<Figure size 288x216 with 2 Axes>"
      ]
     },
     "metadata": {
      "needs_background": "light"
     },
     "output_type": "display_data"
    }
   ],
   "source": [
    "print('-'*60)\n",
    "\n",
    "plt.figure(figsize=(4,3))\n",
    "sns.heatmap(confusion_matrix(y_test,  predictdt_y),annot=True,fmt = \"d\",linecolor=\"k\",linewidths=3)    \n",
    "plt.title(\"Decision Tree accuracy is\",fontsize=14)\n",
    "plt.show()"
   ]
  },
  {
   "cell_type": "code",
   "execution_count": 93,
   "id": "66790f9c",
   "metadata": {},
   "outputs": [
    {
     "name": "stdout",
     "output_type": "stream",
     "text": [
      "------------------------------------------------------------\n"
     ]
    },
    {
     "data": {
      "image/png": "[encoded data removed]",
      "text/plain": [
       "<Figure size 504x288 with 1 Axes>"
      ]
     },
     "metadata": {
      "needs_background": "light"
     },
     "output_type": "display_data"
    }
   ],
   "source": [
    "print('-'*60)\n",
    "\n",
    "y_pred_prob = dt_model.predict_proba(X_test)[:,1]\n",
    "fpr, tpr, thresholds = roc_curve(y_test, y_pred_prob)\n",
    "plt.figure(figsize=(7, 4))\n",
    "\n",
    "plt.plot([0, 1], [0, 1], 'k--' )\n",
    "plt.plot(fpr, tpr, label='Decision Tree accuracy',color = \"r\")\n",
    "plt.xlabel('False Positive Rate')\n",
    "plt.ylabel('True Positive Rate')\n",
    "plt.title('Decision Tree accuracy ROC Curve',fontsize=16)\n",
    "plt.show();"
   ]
  },
  {
   "cell_type": "markdown",
   "id": "e7fea19f",
   "metadata": {},
   "source": [
    "# Neural network "
   ]
  },
  {
   "cell_type": "code",
   "execution_count": 54,
   "id": "92e2af34",
   "metadata": {},
   "outputs": [
    {
     "name": "stdout",
     "output_type": "stream",
     "text": [
      "Epoch 1/100\n",
      "3125/3125 [==============================] - 6s 1ms/step - loss: 1.1237 - accuracy: 0.4965\n",
      "Epoch 2/100\n",
      "3125/3125 [==============================] - 4s 1ms/step - loss: 0.7277 - accuracy: 0.5000\n",
      "Epoch 3/100\n",
      "3125/3125 [==============================] - 5s 1ms/step - loss: 0.7289 - accuracy: 0.5001\n",
      "Epoch 4/100\n",
      "3125/3125 [==============================] - 4s 1ms/step - loss: 0.7313 - accuracy: 0.4987\n",
      "Epoch 5/100\n",
      "3125/3125 [==============================] - 4s 1ms/step - loss: 0.7276 - accuracy: 0.5004\n",
      "Epoch 6/100\n",
      "3125/3125 [==============================] - 5s 1ms/step - loss: 0.7262 - accuracy: 0.5001\n",
      "Epoch 7/100\n",
      "3125/3125 [==============================] - 5s 1ms/step - loss: 0.7253 - accuracy: 0.5007\n",
      "Epoch 8/100\n",
      "3125/3125 [==============================] - 4s 1ms/step - loss: 0.7248 - accuracy: 0.4989\n",
      "Epoch 9/100\n",
      "3125/3125 [==============================] - 4s 1ms/step - loss: 0.7263 - accuracy: 0.4987\n",
      "Epoch 10/100\n",
      "3125/3125 [==============================] - 5s 1ms/step - loss: 0.7218 - accuracy: 0.5013\n",
      "Epoch 11/100\n",
      "3125/3125 [==============================] - 4s 1ms/step - loss: 0.7241 - accuracy: 0.5027\n",
      "Epoch 12/100\n",
      "3125/3125 [==============================] - 4s 1ms/step - loss: 0.7219 - accuracy: 0.5011\n",
      "Epoch 13/100\n",
      "3125/3125 [==============================] - 4s 1ms/step - loss: 0.7239 - accuracy: 0.4999\n",
      "Epoch 14/100\n",
      "3125/3125 [==============================] - 4s 1ms/step - loss: 0.7229 - accuracy: 0.5020\n",
      "Epoch 15/100\n",
      "3125/3125 [==============================] - 5s 1ms/step - loss: 0.7205 - accuracy: 0.5019\n",
      "Epoch 16/100\n",
      "3125/3125 [==============================] - 4s 1ms/step - loss: 0.7225 - accuracy: 0.5004\n",
      "Epoch 17/100\n",
      "3125/3125 [==============================] - 5s 2ms/step - loss: 0.7237 - accuracy: 0.5014\n",
      "Epoch 18/100\n",
      "3125/3125 [==============================] - 5s 1ms/step - loss: 0.7219 - accuracy: 0.5009\n",
      "Epoch 19/100\n",
      "3125/3125 [==============================] - 5s 2ms/step - loss: 0.7239 - accuracy: 0.5006\n",
      "Epoch 20/100\n",
      "3125/3125 [==============================] - 5s 1ms/step - loss: 0.7193 - accuracy: 0.5030\n",
      "Epoch 21/100\n",
      "3125/3125 [==============================] - 5s 1ms/step - loss: 0.7231 - accuracy: 0.5006\n",
      "Epoch 22/100\n",
      "3125/3125 [==============================] - 4s 1ms/step - loss: 0.7235 - accuracy: 0.4989\n",
      "Epoch 23/100\n",
      "3125/3125 [==============================] - 4s 1ms/step - loss: 0.7205 - accuracy: 0.5000\n",
      "Epoch 24/100\n",
      "3125/3125 [==============================] - 5s 2ms/step - loss: 0.7198 - accuracy: 0.5009\n",
      "Epoch 25/100\n",
      "3125/3125 [==============================] - 5s 1ms/step - loss: 0.7204 - accuracy: 0.4985\n",
      "Epoch 26/100\n",
      "3125/3125 [==============================] - 4s 1ms/step - loss: 0.7181 - accuracy: 0.4987\n",
      "Epoch 27/100\n",
      "3125/3125 [==============================] - 5s 2ms/step - loss: 0.7182 - accuracy: 0.5046\n",
      "Epoch 28/100\n",
      "3125/3125 [==============================] - 4s 1ms/step - loss: 0.7174 - accuracy: 0.4978\n",
      "Epoch 29/100\n",
      "3125/3125 [==============================] - 5s 1ms/step - loss: 0.7176 - accuracy: 0.4984\n",
      "Epoch 30/100\n",
      "3125/3125 [==============================] - 5s 1ms/step - loss: 0.7175 - accuracy: 0.5006\n",
      "Epoch 31/100\n",
      "3125/3125 [==============================] - 5s 2ms/step - loss: 0.7193 - accuracy: 0.4982\n",
      "Epoch 32/100\n",
      "3125/3125 [==============================] - 5s 1ms/step - loss: 0.7167 - accuracy: 0.4961\n",
      "Epoch 33/100\n",
      "3125/3125 [==============================] - 5s 1ms/step - loss: 0.7179 - accuracy: 0.4990\n",
      "Epoch 34/100\n",
      "3125/3125 [==============================] - 4s 1ms/step - loss: 0.7175 - accuracy: 0.4998\n",
      "Epoch 35/100\n",
      "3125/3125 [==============================] - 5s 1ms/step - loss: 0.7165 - accuracy: 0.5031\n",
      "Epoch 36/100\n",
      "3125/3125 [==============================] - 4s 1ms/step - loss: 0.7197 - accuracy: 0.4987\n",
      "Epoch 37/100\n",
      "3125/3125 [==============================] - 5s 1ms/step - loss: 0.7176 - accuracy: 0.5005\n",
      "Epoch 38/100\n",
      "3125/3125 [==============================] - 5s 1ms/step - loss: 0.7141 - accuracy: 0.4998\n",
      "Epoch 39/100\n",
      "3125/3125 [==============================] - 4s 1ms/step - loss: 0.7215 - accuracy: 0.4996\n",
      "Epoch 40/100\n",
      "3125/3125 [==============================] - 4s 1ms/step - loss: 0.7151 - accuracy: 0.5026\n",
      "Epoch 41/100\n",
      "3125/3125 [==============================] - 4s 1ms/step - loss: 0.7178 - accuracy: 0.5014\n",
      "Epoch 42/100\n",
      "3125/3125 [==============================] - 4s 1ms/step - loss: 0.7144 - accuracy: 0.5014\n",
      "Epoch 43/100\n",
      "3125/3125 [==============================] - 4s 1ms/step - loss: 0.7166 - accuracy: 0.4988\n",
      "Epoch 44/100\n",
      "3125/3125 [==============================] - 4s 1ms/step - loss: 0.7146 - accuracy: 0.5002\n",
      "Epoch 45/100\n",
      "3125/3125 [==============================] - 4s 1ms/step - loss: 0.7140 - accuracy: 0.5005\n",
      "Epoch 46/100\n",
      "3125/3125 [==============================] - 4s 1ms/step - loss: 0.7141 - accuracy: 0.5011\n",
      "Epoch 47/100\n",
      "3125/3125 [==============================] - 4s 1ms/step - loss: 0.7147 - accuracy: 0.5008\n",
      "Epoch 48/100\n",
      "3125/3125 [==============================] - 5s 1ms/step - loss: 0.7125 - accuracy: 0.5009\n",
      "Epoch 49/100\n",
      "3125/3125 [==============================] - 5s 2ms/step - loss: 0.7127 - accuracy: 0.5017\n",
      "Epoch 50/100\n",
      "3125/3125 [==============================] - 4s 1ms/step - loss: 0.7117 - accuracy: 0.5008\n",
      "Epoch 51/100\n",
      "3125/3125 [==============================] - 4s 1ms/step - loss: 0.7151 - accuracy: 0.5013\n",
      "Epoch 52/100\n",
      "3125/3125 [==============================] - 4s 1ms/step - loss: 0.7123 - accuracy: 0.4968\n",
      "Epoch 53/100\n",
      "3125/3125 [==============================] - 4s 1ms/step - loss: 0.7128 - accuracy: 0.4999\n",
      "Epoch 54/100\n",
      "3125/3125 [==============================] - 4s 1ms/step - loss: 0.7108 - accuracy: 0.5019\n",
      "Epoch 55/100\n",
      "3125/3125 [==============================] - 4s 1ms/step - loss: 0.7123 - accuracy: 0.5019\n",
      "Epoch 56/100\n",
      "3125/3125 [==============================] - 4s 1ms/step - loss: 0.7130 - accuracy: 0.5023\n",
      "Epoch 57/100\n",
      "3125/3125 [==============================] - 5s 1ms/step - loss: 0.7136 - accuracy: 0.5007\n",
      "Epoch 58/100\n",
      "3125/3125 [==============================] - 4s 1ms/step - loss: 0.7104 - accuracy: 0.4991\n",
      "Epoch 59/100\n",
      "3125/3125 [==============================] - 5s 1ms/step - loss: 0.7103 - accuracy: 0.5007\n",
      "Epoch 60/100\n",
      "3125/3125 [==============================] - 4s 1ms/step - loss: 0.7108 - accuracy: 0.4989\n",
      "Epoch 61/100\n",
      "3125/3125 [==============================] - 4s 1ms/step - loss: 0.7089 - accuracy: 0.5000\n",
      "Epoch 62/100\n",
      "3125/3125 [==============================] - 4s 1ms/step - loss: 0.7102 - accuracy: 0.5010\n",
      "Epoch 63/100\n",
      "3125/3125 [==============================] - 4s 1ms/step - loss: 0.7086 - accuracy: 0.4998\n",
      "Epoch 64/100\n",
      "3125/3125 [==============================] - 4s 1ms/step - loss: 0.7088 - accuracy: 0.4997\n",
      "Epoch 65/100\n",
      "3125/3125 [==============================] - 4s 1ms/step - loss: 0.7086 - accuracy: 0.4993\n",
      "Epoch 66/100\n",
      "3125/3125 [==============================] - 4s 1ms/step - loss: 0.7069 - accuracy: 0.5000\n",
      "Epoch 67/100\n",
      "3125/3125 [==============================] - 4s 1ms/step - loss: 0.7079 - accuracy: 0.5006\n",
      "Epoch 68/100\n",
      "3125/3125 [==============================] - 4s 1ms/step - loss: 0.7062 - accuracy: 0.5005\n",
      "Epoch 69/100\n",
      "3125/3125 [==============================] - 4s 1ms/step - loss: 0.7073 - accuracy: 0.5015\n",
      "Epoch 70/100\n",
      "3125/3125 [==============================] - 4s 1ms/step - loss: 0.7058 - accuracy: 0.5016\n",
      "Epoch 71/100\n",
      "3125/3125 [==============================] - 5s 1ms/step - loss: 0.7061 - accuracy: 0.4986\n",
      "Epoch 72/100\n",
      "3125/3125 [==============================] - 4s 1ms/step - loss: 0.7062 - accuracy: 0.4998\n",
      "Epoch 73/100\n",
      "3125/3125 [==============================] - 4s 1ms/step - loss: 0.7048 - accuracy: 0.5031\n",
      "Epoch 74/100\n",
      "3125/3125 [==============================] - 4s 1ms/step - loss: 0.7034 - accuracy: 0.5008\n",
      "Epoch 75/100\n",
      "3125/3125 [==============================] - 4s 1ms/step - loss: 0.7045 - accuracy: 0.4997\n",
      "Epoch 76/100\n",
      "3125/3125 [==============================] - 4s 1ms/step - loss: 0.7027 - accuracy: 0.5027\n",
      "Epoch 77/100\n",
      "3125/3125 [==============================] - 4s 1ms/step - loss: 0.7038 - accuracy: 0.4991\n",
      "Epoch 78/100\n",
      "3125/3125 [==============================] - 5s 1ms/step - loss: 0.7031 - accuracy: 0.4963\n",
      "Epoch 79/100\n"
     ]
    },
    {
     "name": "stdout",
     "output_type": "stream",
     "text": [
      "3125/3125 [==============================] - 4s 1ms/step - loss: 0.7028 - accuracy: 0.5017\n",
      "Epoch 80/100\n",
      "3125/3125 [==============================] - 4s 1ms/step - loss: 0.7020 - accuracy: 0.4977\n",
      "Epoch 81/100\n",
      "3125/3125 [==============================] - 4s 1ms/step - loss: 0.7017 - accuracy: 0.4984\n",
      "Epoch 82/100\n",
      "3125/3125 [==============================] - 4s 1ms/step - loss: 0.7018 - accuracy: 0.4995\n",
      "Epoch 83/100\n",
      "3125/3125 [==============================] - 4s 1ms/step - loss: 0.7007 - accuracy: 0.5023\n",
      "Epoch 84/100\n",
      "3125/3125 [==============================] - 5s 1ms/step - loss: 0.7007 - accuracy: 0.5008\n",
      "Epoch 85/100\n",
      "3125/3125 [==============================] - 5s 1ms/step - loss: 0.7018 - accuracy: 0.4987\n",
      "Epoch 86/100\n",
      "3125/3125 [==============================] - 4s 1ms/step - loss: 0.7016 - accuracy: 0.4972\n",
      "Epoch 87/100\n",
      "3125/3125 [==============================] - 4s 1ms/step - loss: 0.7009 - accuracy: 0.5018\n",
      "Epoch 88/100\n",
      "3125/3125 [==============================] - 4s 1ms/step - loss: 0.7006 - accuracy: 0.5021\n",
      "Epoch 89/100\n",
      "3125/3125 [==============================] - 5s 2ms/step - loss: 0.7006 - accuracy: 0.5014\n",
      "Epoch 90/100\n",
      "3125/3125 [==============================] - 4s 1ms/step - loss: 0.7005 - accuracy: 0.4983\n",
      "Epoch 91/100\n",
      "3125/3125 [==============================] - 4s 1ms/step - loss: 0.7001 - accuracy: 0.4997\n",
      "Epoch 92/100\n",
      "3125/3125 [==============================] - 5s 2ms/step - loss: 0.7001 - accuracy: 0.4990\n",
      "Epoch 93/100\n",
      "3125/3125 [==============================] - 5s 2ms/step - loss: 0.6995 - accuracy: 0.4981\n",
      "Epoch 94/100\n",
      "3125/3125 [==============================] - 5s 1ms/step - loss: 0.6989 - accuracy: 0.4984\n",
      "Epoch 95/100\n",
      "3125/3125 [==============================] - 5s 1ms/step - loss: 0.6987 - accuracy: 0.5029\n",
      "Epoch 96/100\n",
      "3125/3125 [==============================] - 5s 1ms/step - loss: 0.6982 - accuracy: 0.4987\n",
      "Epoch 97/100\n",
      "3125/3125 [==============================] - 5s 1ms/step - loss: 0.6995 - accuracy: 0.4997\n",
      "Epoch 98/100\n",
      "3125/3125 [==============================] - 5s 1ms/step - loss: 0.6983 - accuracy: 0.5025\n",
      "Epoch 99/100\n",
      "3125/3125 [==============================] - 5s 2ms/step - loss: 0.6980 - accuracy: 0.5022\n",
      "Epoch 100/100\n",
      "3125/3125 [==============================] - 4s 1ms/step - loss: 0.6981 - accuracy: 0.4981\n",
      "3125/3125 [==============================] - 4s 1ms/step\n",
      "[[0.51304364]\n",
      " [0.5167697 ]\n",
      " [0.54673016]\n",
      " ...\n",
      " [0.50318414]\n",
      " [0.55566406]\n",
      " [0.50190693]]\n"
     ]
    }
   ],
   "source": [
    "import tensorflow as tf\n",
    "from tensorflow import keras\n",
    "import numpy as np\n",
    "\n",
    "\n",
    "# Define a simple feedforward neural network\n",
    "model = keras.Sequential([\n",
    "    keras.layers.Dense(10, activation='relu', input_shape=(6,)),\n",
    "    keras.layers.Dense(1, activation='sigmoid')\n",
    "])\n",
    "\n",
    "# Compile the model\n",
    "model.compile(optimizer='adam', loss='binary_crossentropy', metrics=['accuracy'])\n",
    "\n",
    "# Train the model on the data\n",
    "model.fit(X, y, epochs=100)\n",
    "\n",
    "# Make predictions\n",
    "predictions = model.predict(X)\n",
    "\n",
    "# Print the predictions\n",
    "print(predictions)"
   ]
  },
  {
   "cell_type": "markdown",
   "id": "7b562eaf",
   "metadata": {},
   "source": [
    "# cross validation and hayperparameters tuning"
   ]
  },
  {
   "cell_type": "markdown",
   "id": "50f1e3de",
   "metadata": {},
   "source": [
    "by comparing all four model we can say our accuracy,f1-score,prcession ia max at random forest model thats why \n",
    "\n",
    "\n",
    "we are going to do the cross validation and hyper-parametre tuning on random forest \n",
    "\n",
    "\n",
    "here we are going to use grid_search CV for cross validation and hyper-parametre tuning for best parametres for the equation \n"
   ]
  },
  {
   "cell_type": "code",
   "execution_count": 57,
   "id": "3532a258",
   "metadata": {},
   "outputs": [],
   "source": [
    "import numpy as np\n",
    "import pandas as pd\n",
    "from sklearn.ensemble import RandomForestClassifier\n",
    "from sklearn.model_selection import train_test_split, cross_val_score, GridSearchCV, RandomizedSearchCV\n",
    "from sklearn.metrics import accuracy_score"
   ]
  },
  {
   "cell_type": "code",
   "execution_count": 58,
   "id": "738e74ad",
   "metadata": {},
   "outputs": [],
   "source": [
    "rf_classifier = RandomForestClassifier(random_state=42)\n"
   ]
  },
  {
   "cell_type": "code",
   "execution_count": 59,
   "id": "cb11efd9",
   "metadata": {},
   "outputs": [
    {
     "name": "stdout",
     "output_type": "stream",
     "text": [
      "Cross-Validation Scores: [0.4954375 0.492875  0.490125  0.4975625 0.5038125]\n",
      "Mean CV Accuracy: 0.4959625\n"
     ]
    }
   ],
   "source": [
    "cv_scores = cross_val_score(rf_classifier, X_train, y_train, cv=5, scoring='accuracy')\n",
    "print(\"Cross-Validation Scores:\", cv_scores)\n",
    "print(\"Mean CV Accuracy:\", np.mean(cv_scores))"
   ]
  },
  {
   "cell_type": "code",
   "execution_count": null,
   "id": "62dabc3d",
   "metadata": {},
   "outputs": [],
   "source": []
  },
  {
   "cell_type": "code",
   "execution_count": 60,
   "id": "59e1db6a",
   "metadata": {},
   "outputs": [
    {
     "name": "stdout",
     "output_type": "stream",
     "text": [
      "Fitting 5 folds for each of 108 candidates, totalling 540 fits\n",
      "Best Hyperparameters: {'max_depth': 10, 'min_samples_leaf': 1, 'min_samples_split': 10, 'n_estimators': 100}\n"
     ]
    }
   ],
   "source": [
    "# Define hyperparameters and their possible values\n",
    "param_grid = {\n",
    "    'n_estimators': [100, 200, 300],\n",
    "    'max_depth': [None, 10, 20, 30],\n",
    "    'min_samples_split': [2, 5, 10],\n",
    "    'min_samples_leaf': [1, 2, 4]\n",
    "}\n",
    "\n",
    "# Create a GridSearchCV object\n",
    "grid_search = GridSearchCV(estimator=rf_classifier, param_grid=param_grid, cv=5, scoring='accuracy', verbose=2, n_jobs=-1)\n",
    "\n",
    "# Fit the GridSearchCV object to the data\n",
    "grid_search.fit(X_train, y_train)\n",
    "\n",
    "# Get the best hyperparameters\n",
    "best_params = grid_search.best_params_\n",
    "print(\"Best Hyperparameters:\", best_params)\n"
   ]
  },
  {
   "cell_type": "markdown",
   "id": "2a0c377a",
   "metadata": {},
   "source": [
    "The optimal hyperparameters for the random forest model were determined through a hyperparameter tuning process. After fitting the model with 5-fold cross-validation on a grid of 108 different combinations, the best hyperparameters were identified as follows:\n",
    "\n",
    "Maximum Depth (max_depth): 10\n",
    "Minimum Samples per Leaf (min_samples_leaf): 1\n",
    "Minimum Samples per Split (min_samples_split): 10\n",
    "Number of Estimators (n_estimators): 100"
   ]
  },
  {
   "cell_type": "code",
   "execution_count": 61,
   "id": "fd81035f",
   "metadata": {},
   "outputs": [
    {
     "name": "stdout",
     "output_type": "stream",
     "text": [
      "Test Accuracy: 0.5033\n"
     ]
    }
   ],
   "source": [
    "# Get the best model from the GridSearchCV\n",
    "best_rf_classifier = grid_search.best_estimator_\n",
    "\n",
    "# Make predictions on the test set\n",
    "y_pred = best_rf_classifier.predict(X_test)\n",
    "\n",
    "# Calculate the accuracy of the model\n",
    "test_accuracy = accuracy_score(y_test, y_pred)\n",
    "print(\"Test Accuracy:\", test_accuracy)\n"
   ]
  },
  {
   "cell_type": "markdown",
   "id": "de23b855",
   "metadata": {},
   "source": [
    "# conclusion \n"
   ]
  },
  {
   "cell_type": "markdown",
   "id": "f133c485",
   "metadata": {},
   "source": [
    " As we know for a classifier model the ROC AUC should be heigher means more the area under the curve better the model\n",
    " \n",
    "but we can see that all the Algorithms has aproxymatley same area under the curve\n",
    "\n",
    "if talk about f1 score then for random forest has more f1 score and more test Accuracy :0.5033 then any other classification model "
   ]
  },
  {
   "cell_type": "markdown",
   "id": "ebcef8e2",
   "metadata": {},
   "source": [
    "# Final conclusion "
   ]
  },
  {
   "cell_type": "markdown",
   "id": "df6f6592",
   "metadata": {},
   "source": [
    "\n",
    "\n",
    "\n",
    "1:The random forest model accuracy score is 0.5033, which is higher than any other models.\n",
    "\n",
    "2:Our classification model is showing underfitting. To reduce it, we have tried hyperparameter tuning with the help of grid search CV, but it still shows the best accuracy according to my model.\n",
    "\n",
    "3:According to my model, there are approximately 50 percent chances that the customer will churn.\n",
    "\n",
    "4:With the help of the confusion matrix, we can say that the number of true predictions is more than wrong predictions. We can also see that precision, sensitivity, and F1 score are in good condition for that model.\n",
    "\n",
    "5:With the help of the findings of the ROC curve, by increasing the threshold level, our accuracy is also slightly increasing.\n",
    "\n",
    "6:ROC AUC of our model approaches towards 1. So, we can conclude that our classifier does a slightly good job in predicting whether the customer will churn or not."
   ]
  },
  {
   "cell_type": "markdown",
   "id": "b4b00fba",
   "metadata": {},
   "source": [
    "# model deployment "
   ]
  },
  {
   "cell_type": "code",
   "execution_count": 81,
   "id": "37e2c3c1",
   "metadata": {},
   "outputs": [],
   "source": [
    "# Import necessary libraries\n",
    "from flask import Flask, request, jsonify\n",
    "from sklearn.ensemble import RandomForestClassifier\n",
    "import pickle"
   ]
  },
  {
   "cell_type": "code",
   "execution_count": 82,
   "id": "0a8790b5",
   "metadata": {},
   "outputs": [],
   "source": [
    "# Saving model to disk\n",
    "pickle.dump(model_rf,open('model.pkl','wb'))"
   ]
  },
  {
   "cell_type": "code",
   "execution_count": 83,
   "id": "b2ecbf53",
   "metadata": {},
   "outputs": [],
   "source": [
    "# Loading model to compare the results\n",
    "model=pickle.load(open('model.pkl','rb'))"
   ]
  },
  {
   "cell_type": "code",
   "execution_count": 85,
   "id": "033221fb",
   "metadata": {},
   "outputs": [
    {
     "name": "stdout",
     "output_type": "stream",
     "text": [
      "[1.]\n"
     ]
    }
   ],
   "source": [
    "print(model.predict([[2, 9, 6,4,9,8]]))"
   ]
  },
  {
   "cell_type": "markdown",
   "id": "20b4c34e",
   "metadata": {},
   "source": [
    "# model.py file content "
   ]
  },
  {
   "cell_type": "code",
   "execution_count": null,
   "id": "40658b2e",
   "metadata": {},
   "outputs": [],
   "source": [
    "import numpy as np\n",
    "from flask import Flask, request, jsonify, render_template\n",
    "import pickle\n",
    "\n",
    "app = Flask(__name__)\n",
    "\n",
    "# Load the pre-trained Random Forest model\n",
    "model_path = 'model.pkl'  \n",
    "model = pickle.load(open(model_path, 'rb'))\n",
    "\n",
    "@app.route('/')\n",
    "def home():\n",
    "    return render_template('index.html')\n",
    "\n",
    "@app.route('/predict', methods=['POST'])\n",
    "def predict():\n",
    "    '''\n",
    "    For rendering results on HTML GUI\n",
    "    '''\n",
    "    try:\n",
    "        int_features = [int(x) for x in request.form.values()]\n",
    "        final_features = [np.array(int_features)]\n",
    "        prediction = model.predict(final_features)\n",
    "\n",
    "        output = int(prediction[0])\n",
    "\n",
    "        return render_template('index.html', prediction_text='Churn Prediction: {}'.format(output))\n",
    "    \n",
    "    except Exception as e:\n",
    "        return render_template('index.html', prediction_text='Error: {}'.format(str(e)))\n",
    "\n",
    "@app.route('/predict_api', methods=['POST'])\n",
    "def predict_api():\n",
    "    try:\n",
    "        data = request.get_json(force=True)\n",
    "        \n",
    "        prediction = model.predict([np.array(list(data.values()))])\n",
    "\n",
    "        output = int(prediction[0])\n",
    "        \n",
    "        return jsonify({'churn_prediction': output})\n",
    "    \n",
    "    except Exception as e:\n",
    "        return jsonify({'error': str(e)})\n",
    "\n",
    "if __name__ == \"__main__\":\n",
    "    app.run(host='0.0.0.0', port=8080)  # Use port 8080 for running the application\n"
   ]
  },
  {
   "cell_type": "markdown",
   "id": "edf252a3",
   "metadata": {},
   "source": [
    "# html code "
   ]
  },
  {
   "cell_type": "code",
   "execution_count": null,
   "id": "b64cfa60",
   "metadata": {},
   "outputs": [],
   "source": [
    "<!DOCTYPE html>\n",
    "<html>\n",
    "<head>\n",
    "    <meta charset=\"UTF-8\">\n",
    "    <title>Churn Prediction</title>\n",
    "    <link rel=\"stylesheet\" href=\"{{ url_for('static', filename='css/style.css') }}\">\n",
    "</head>\n",
    "<body>\n",
    "    <div class=\"login\">\n",
    "        <h1>Churn Prediction</h1>\n",
    "        <form action=\"{{ url_for('predict') }}\" method=\"post\">\n",
    "            <input type=\"number\" name=\"age\" placeholder=\"Age\" required=\"required\" />\n",
    "            <select name=\"gender\" required=\"required\">\n",
    "                <option value=\"Male\">Male</option>\n",
    "                <option value=\"Female\">Female</option>\n",
    "            </select>\n",
    "            <input type=\"text\" name=\"location\" placeholder=\"Location\" required=\"required\" />\n",
    "            <input type=\"number\" name=\"subscription_months\" placeholder=\"Subscription Length (Months)\" required=\"required\" />\n",
    "            <input type=\"number\" name=\"monthly_bill\" placeholder=\"Monthly Bill\" required=\"required\" />\n",
    "            <input type=\"number\" name=\"total_usage_gb\" placeholder=\"Total Usage (GB)\" required=\"required\" />\n",
    "            \n",
    "            <!-- Add more input fields as needed -->\n",
    "\n",
    "            <button type=\"submit\" class=\"btn btn-primary btn-block btn-large\">Predict Churn</button>\n",
    "        </form>\n",
    "        <br>\n",
    "        <br>\n",
    "        {{ prediction_text }}\n",
    "    </div>\n",
    "</body>\n",
    "</html>\n"
   ]
  }
 ],
 "metadata": {
  "kernelspec": {
   "display_name": "Python 3 (ipykernel)",
   "language": "python",
   "name": "python3"
  },
  "language_info": {
   "codemirror_mode": {
    "name": "ipython",
    "version": 3
   },
   "file_extension": ".py",
   "mimetype": "text/x-python",
   "name": "python",
   "nbconvert_exporter": "python",
   "pygments_lexer": "ipython3",
   "version": "3.9.12"
  }
 },
 "nbformat": 4,
 "nbformat_minor": 5
}
