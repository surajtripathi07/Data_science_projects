{
 "cells": [
  {
   "cell_type": "code",
   "execution_count": null,
   "id": "56c178ed",
   "metadata": {},
   "outputs": [],
   "source": []
  },
  {
   "cell_type": "code",
   "execution_count": null,
   "id": "193c5a87",
   "metadata": {},
   "outputs": [],
   "source": [
    "import numpy as np\n",
    "from flask import Flask, request, jsonify, render_template\n",
    "import pickle\n",
    "\n",
    "app = Flask(__name__)\n",
    "\n",
    "# Load the pre-trained Random Forest model\n",
    "model_path = 'rmodel.pkl'  # Update with the correct path to your model file\n",
    "model = pickle.load(open(model_path, 'rb'))\n",
    "\n",
    "@app.route('/')\n",
    "def home():\n",
    "    return render_template('index.html')\n",
    "\n",
    "@app.route('/predict', methods=['POST'])\n",
    "def predict():\n",
    "    '''\n",
    "    For rendering results on HTML GUI\n",
    "    '''\n",
    "    try:\n",
    "        # Get input features from the form (assuming they are integers)\n",
    "        int_features = [int(x) for x in request.form.values()]\n",
    "        \n",
    "        # Make predictions using the loaded model\n",
    "        final_features = [np.array(int_features)]\n",
    "        prediction = model.predict(final_features)\n",
    "\n",
    "        output = int(prediction[0])\n",
    "\n",
    "        return render_template('index.html', prediction_text='Churn Prediction: {}'.format(output))\n",
    "    \n",
    "    except Exception as e:\n",
    "        return render_template('index.html', prediction_text='Error: {}'.format(str(e)))\n",
    "\n",
    "@app.route('/predict_api', methods=['POST'])\n",
    "def predict_api():\n",
    "    '''\n",
    "    For direct API calls through request\n",
    "    '''\n",
    "    try:\n",
    "        data = request.get_json(force=True)\n",
    "        \n",
    "        prediction = model.predict([np.array(list(data.values()))])\n",
    "\n",
    "        output = int(prediction[0])\n",
    "        \n",
    "        return jsonify({'churn_prediction': output})\n",
    "    \n",
    "    except Exception as e:\n",
    "        return jsonify({'error': str(e)})\n",
    "\n",
    "if __name__ == \"__main__\":\n",
    "    app.run(host='0.0.0.0', port=8080)  # Use port 8080 for running the application\n"
   ]
  },
  {
   "cell_type": "code",
   "execution_count": null,
   "id": "b1694cbc",
   "metadata": {},
   "outputs": [],
   "source": []
  }
 ],
 "metadata": {
  "kernelspec": {
   "display_name": "Python 3 (ipykernel)",
   "language": "python",
   "name": "python3"
  },
  "language_info": {
   "codemirror_mode": {
    "name": "ipython",
    "version": 3
   },
   "file_extension": ".py",
   "mimetype": "text/x-python",
   "name": "python",
   "nbconvert_exporter": "python",
   "pygments_lexer": "ipython3",
   "version": "3.9.12"
  }
 },
 "nbformat": 4,
 "nbformat_minor": 5
}
